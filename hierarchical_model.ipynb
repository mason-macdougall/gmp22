{
 "cells": [
  {
   "cell_type": "code",
   "execution_count": 1,
   "metadata": {},
   "outputs": [],
   "source": [
    "import numpy as np\n",
    "import matplotlib.pyplot as plt\n",
    "import pandas as pd\n",
    "import arviz as az\n",
    "import pickle\n",
    "from scipy import stats\n",
    "\n",
    "import pymc3 as pm\n",
    "import pymc3_ext as pmx\n",
    "import aesara_theano_fallback.tensor as T\n",
    "import corner\n",
    "\n",
    "from utils import *\n",
    "\n",
    "MAINPATH = \"/Users/research/projects/gmp22/\""
   ]
  },
  {
   "cell_type": "markdown",
   "metadata": {},
   "source": [
    "# Load the importance sampled chains"
   ]
  },
  {
   "cell_type": "code",
   "execution_count": 2,
   "metadata": {},
   "outputs": [],
   "source": [
    "test = 'test6-s20-b0.48-e0.05-w90'\n",
    "\n",
    "with open(MAINPATH + 'test_data/' + test + '_I.pkl', 'rb') as f:\n",
    "    samples = pickle.load(f)"
   ]
  },
  {
   "cell_type": "markdown",
   "metadata": {},
   "source": [
    "# Run the HBM\n",
    "### See Hogg, Myers, & Bovy 2010 for details"
   ]
  },
  {
   "cell_type": "code",
   "execution_count": 18,
   "metadata": {},
   "outputs": [],
   "source": [
    "def BetaDistPDF(a,b,x):\n",
    "    B = T.gamma(a)*T.gamma(b)/T.gamma(a+b)\n",
    "    return x**(a-1) * (1-x)**(b-1) / B\n",
    "\n",
    "\n",
    "with pm.Model() as model:\n",
    "    log_a = pm.Normal(\"log_a\", mu=0, sd=1)\n",
    "    log_b = pm.Normal(\"log_b\", mu=0, sd=1)\n",
    "    \n",
    "    a = pm.Deterministic(\"a\", pm.math.exp(log_a))\n",
    "    b = pm.Deterministic(\"b\", pm.math.exp(log_b))\n",
    "    \n",
    "    beta_pdf = BetaDistPDF(a, b, samples[\"ecc\"])\n",
    "    \n",
    "    # likelihood\n",
    "    pm.Potential(\"ln_like\", pm.math.log(pm.math.sum(beta_pdf*samples[\"weights\"])))"
   ]
  },
  {
   "cell_type": "code",
   "execution_count": 19,
   "metadata": {},
   "outputs": [
    {
     "name": "stderr",
     "output_type": "stream",
     "text": [
      "/Users/research/anaconda3/lib/python3.7/site-packages/pymc3_ext/sampling/sampling.py:97: FutureWarning: In v4.0, pm.sample will return an `arviz.InferenceData` object instead of a `MultiTrace` by default. You can pass return_inferencedata=True or return_inferencedata=False to be safe and silence this warning.\n",
      "  return pm.sample(draws=draws, tune=tune, model=model, step=step, **kwargs)\n",
      "Multiprocess sampling (2 chains in 4 jobs)\n",
      "NUTS: [log_b, log_a]\n"
     ]
    },
    {
     "data": {
      "text/html": [
       "\n",
       "    <div>\n",
       "        <style>\n",
       "            /* Turns off some styling */\n",
       "            progress {\n",
       "                /* gets rid of default border in Firefox and Opera. */\n",
       "                border: none;\n",
       "                /* Needs to be in here for Safari polyfill so background images work as expected. */\n",
       "                background-size: auto;\n",
       "            }\n",
       "            .progress-bar-interrupted, .progress-bar-interrupted::-webkit-progress-bar {\n",
       "                background: #F44336;\n",
       "            }\n",
       "        </style>\n",
       "      <progress value='12000' class='' max='12000' style='width:300px; height:20px; vertical-align: middle;'></progress>\n",
       "      100.00% [12000/12000 01:04<00:00 Sampling 2 chains, 0 divergences]\n",
       "    </div>\n",
       "    "
      ],
      "text/plain": [
       "<IPython.core.display.HTML object>"
      ]
     },
     "metadata": {},
     "output_type": "display_data"
    },
    {
     "name": "stderr",
     "output_type": "stream",
     "text": [
      "Sampling 2 chains for 5_000 tune and 1_000 draw iterations (10_000 + 2_000 draws total) took 70 seconds.\n"
     ]
    }
   ],
   "source": [
    "with model:\n",
    "    trace = pmx.sample(tune=5000, draws=1000, chains=2, target_accept=0.9)"
   ]
  },
  {
   "cell_type": "code",
   "execution_count": 20,
   "metadata": {},
   "outputs": [
    {
     "name": "stderr",
     "output_type": "stream",
     "text": [
      "/Users/research/anaconda3/lib/python3.7/site-packages/arviz/data/io_pymc3.py:100: FutureWarning: Using `from_pymc3` without the model will be deprecated in a future release. Not using the model will return less accurate and less useful results. Make sure you use the model argument or call from_pymc3 within a model context.\n",
      "  FutureWarning,\n"
     ]
    },
    {
     "data": {
      "text/html": [
       "<div>\n",
       "<style scoped>\n",
       "    .dataframe tbody tr th:only-of-type {\n",
       "        vertical-align: middle;\n",
       "    }\n",
       "\n",
       "    .dataframe tbody tr th {\n",
       "        vertical-align: top;\n",
       "    }\n",
       "\n",
       "    .dataframe thead th {\n",
       "        text-align: right;\n",
       "    }\n",
       "</style>\n",
       "<table border=\"1\" class=\"dataframe\">\n",
       "  <thead>\n",
       "    <tr style=\"text-align: right;\">\n",
       "      <th></th>\n",
       "      <th>mean</th>\n",
       "      <th>sd</th>\n",
       "      <th>hdi_3%</th>\n",
       "      <th>hdi_97%</th>\n",
       "      <th>mcse_mean</th>\n",
       "      <th>mcse_sd</th>\n",
       "      <th>ess_bulk</th>\n",
       "      <th>ess_tail</th>\n",
       "      <th>r_hat</th>\n",
       "    </tr>\n",
       "  </thead>\n",
       "  <tbody>\n",
       "    <tr>\n",
       "      <th>log_a</th>\n",
       "      <td>-0.362</td>\n",
       "      <td>0.880</td>\n",
       "      <td>-1.828</td>\n",
       "      <td>1.402</td>\n",
       "      <td>0.023</td>\n",
       "      <td>0.020</td>\n",
       "      <td>1493.0</td>\n",
       "      <td>1157.0</td>\n",
       "      <td>1.0</td>\n",
       "    </tr>\n",
       "    <tr>\n",
       "      <th>log_b</th>\n",
       "      <td>0.350</td>\n",
       "      <td>0.958</td>\n",
       "      <td>-1.491</td>\n",
       "      <td>2.108</td>\n",
       "      <td>0.024</td>\n",
       "      <td>0.021</td>\n",
       "      <td>1532.0</td>\n",
       "      <td>1446.0</td>\n",
       "      <td>1.0</td>\n",
       "    </tr>\n",
       "    <tr>\n",
       "      <th>a</th>\n",
       "      <td>1.045</td>\n",
       "      <td>1.278</td>\n",
       "      <td>0.034</td>\n",
       "      <td>2.738</td>\n",
       "      <td>0.034</td>\n",
       "      <td>0.024</td>\n",
       "      <td>1493.0</td>\n",
       "      <td>1157.0</td>\n",
       "      <td>1.0</td>\n",
       "    </tr>\n",
       "    <tr>\n",
       "      <th>b</th>\n",
       "      <td>2.222</td>\n",
       "      <td>2.464</td>\n",
       "      <td>0.077</td>\n",
       "      <td>6.306</td>\n",
       "      <td>0.067</td>\n",
       "      <td>0.047</td>\n",
       "      <td>1532.0</td>\n",
       "      <td>1446.0</td>\n",
       "      <td>1.0</td>\n",
       "    </tr>\n",
       "  </tbody>\n",
       "</table>\n",
       "</div>"
      ],
      "text/plain": [
       "        mean     sd  hdi_3%  hdi_97%  mcse_mean  mcse_sd  ess_bulk  ess_tail  \\\n",
       "log_a -0.362  0.880  -1.828    1.402      0.023    0.020    1493.0    1157.0   \n",
       "log_b  0.350  0.958  -1.491    2.108      0.024    0.021    1532.0    1446.0   \n",
       "a      1.045  1.278   0.034    2.738      0.034    0.024    1493.0    1157.0   \n",
       "b      2.222  2.464   0.077    6.306      0.067    0.047    1532.0    1446.0   \n",
       "\n",
       "       r_hat  \n",
       "log_a    1.0  \n",
       "log_b    1.0  \n",
       "a        1.0  \n",
       "b        1.0  "
      ]
     },
     "execution_count": 20,
     "metadata": {},
     "output_type": "execute_result"
    }
   ],
   "source": [
    "az.summary(trace)"
   ]
  },
  {
   "cell_type": "code",
   "execution_count": 21,
   "metadata": {},
   "outputs": [
    {
     "name": "stderr",
     "output_type": "stream",
     "text": [
      "/Users/research/anaconda3/lib/python3.7/site-packages/arviz/data/io_pymc3.py:100: FutureWarning: Using `from_pymc3` without the model will be deprecated in a future release. Not using the model will return less accurate and less useful results. Make sure you use the model argument or call from_pymc3 within a model context.\n",
      "  FutureWarning,\n"
     ]
    },
    {
     "data": {
      "image/png": "[encoded data removed]",
      "text/plain": [
       "<Figure size 396x396 with 4 Axes>"
      ]
     },
     "metadata": {
      "needs_background": "light"
     },
     "output_type": "display_data"
    }
   ],
   "source": [
    "_ = corner.corner(trace, var_names=[\"log_a\", \"log_b\"])"
   ]
  },
  {
   "cell_type": "code",
   "execution_count": 22,
   "metadata": {},
   "outputs": [
    {
     "data": {
      "image/png": "[encoded data removed]",
      "text/plain": [
       "<Figure size 576x360 with 1 Axes>"
      ]
     },
     "metadata": {
      "needs_background": "light"
     },
     "output_type": "display_data"
    }
   ],
   "source": [
    "a_ = np.median(trace[\"a\"])\n",
    "b_ = np.median(trace[\"b\"])\n",
    "\n",
    "w_imp = samples[\"weights\"]\n",
    "w_imp /= np.sum(samples[\"weights\"])\n",
    "w_hbm = stats.beta(a_, b_).pdf(samples[\"ecc\"])\n",
    "w_hbm /= np.sum(w_hbm)\n",
    "\n",
    "ecc_grid = np.linspace(0,1,1000)\n",
    "\n",
    "plt.figure(figsize=(8,5))\n",
    "plt.hist(samples[\"ecc\"], weights=w_imp, bins=99, alpha=0.5, density=True, label=\"posterior samples (flat prior)\")\n",
    "plt.hist(samples[\"ecc\"], weights=w_imp*w_hbm, bins=99, alpha=0.5, density=True, label=\"posterior samples (beta prior)\")\n",
    "plt.plot(ecc_grid, stats.beta(a_, b_).pdf(ecc_grid), lw=3, label=\"beta prior\", color=\"r\")\n",
    "plt.xlabel(\"eccentricity\", fontsize=20)\n",
    "plt.ylabel(\"counts\", fontsize=20)\n",
    "plt.yticks([])\n",
    "plt.legend(fontsize=14)\n",
    "plt.show()"
   ]
  },
  {
   "cell_type": "code",
   "execution_count": 23,
   "metadata": {},
   "outputs": [
    {
     "name": "stderr",
     "output_type": "stream",
     "text": [
      "/Users/research/anaconda3/lib/python3.7/site-packages/numpy/lib/function_base.py:3961: RuntimeWarning: invalid value encountered in subtract\n",
      "  diff_b_a = subtract(b, a)\n"
     ]
    },
    {
     "data": {
      "image/png": "[encoded data removed]",
      "text/plain": [
       "<Figure size 576x360 with 1 Axes>"
      ]
     },
     "metadata": {
      "needs_background": "light"
     },
     "output_type": "display_data"
    }
   ],
   "source": [
    "ndraw = 1000\n",
    "nsamp = len(trace[\"a\"])\n",
    "\n",
    "draws = np.random.randint(0, nsamp, size=ndraw)\n",
    "posterior_pdf = np.zeros((ndraw,len(ecc_grid)))\n",
    "\n",
    "plt.figure(figsize=(8,5))\n",
    "\n",
    "for i, d in enumerate(draws):\n",
    "    a_ = trace[\"a\"][d]\n",
    "    b_ = trace[\"b\"][d]\n",
    "\n",
    "    posterior_pdf[i] = stats.beta(a_, b_).pdf(ecc_grid)\n",
    "\n",
    "    \n",
    "med = np.median(posterior_pdf, axis=0)\n",
    "dn = np.percentile(posterior_pdf, 16, axis=0)\n",
    "up = np.percentile(posterior_pdf, 84, axis=0)\n",
    "\n",
    "plt.plot(ecc_grid, med, lw=3, label=\"beta prior\", color=\"r\")\n",
    "plt.fill_between(ecc_grid, dn, up, alpha=0.2, color=\"r\")\n",
    "plt.xlabel(\"eccentricity\", fontsize=20)\n",
    "plt.ylabel(\"counts\", fontsize=20)\n",
    "plt.show()"
   ]
  },
  {
   "cell_type": "code",
   "execution_count": null,
   "metadata": {},
   "outputs": [],
   "source": []
  },
  {
   "cell_type": "code",
   "execution_count": null,
   "metadata": {},
   "outputs": [],
   "source": []
  },
  {
   "cell_type": "code",
   "execution_count": null,
   "metadata": {},
   "outputs": [],
   "source": []
  }
 ],
 "metadata": {
  "kernelspec": {
   "display_name": "Python 3",
   "language": "python",
   "name": "python3"
  },
  "language_info": {
   "codemirror_mode": {
    "name": "ipython",
    "version": 3
   },
   "file_extension": ".py",
   "mimetype": "text/x-python",
   "name": "python",
   "nbconvert_exporter": "python",
   "pygments_lexer": "ipython3",
   "version": "3.7.3"
  }
 },
 "nbformat": 4,
 "nbformat_minor": 2
}
