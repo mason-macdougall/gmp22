{
 "cells": [
  {
   "cell_type": "code",
   "execution_count": 1,
   "metadata": {},
   "outputs": [],
   "source": [
    "from astropy.io import fits\n",
    "import pandas as pd\n",
    "import numpy as np\n"
   ]
  },
  {
   "cell_type": "markdown",
   "metadata": {},
   "source": [
    "Generate list of simulation ID names: SIM_IDS"
   ]
  },
  {
   "cell_type": "code",
   "execution_count": 2,
   "metadata": {},
   "outputs": [
    {
     "data": {
      "text/plain": [
       "['test1-s20-b0.1-e0.05-w90',\n",
       " 'test2-s20-b0.1-e0.1-w90',\n",
       " 'test3-s20-b0.1-e0.2-w90',\n",
       " 'test4-s20-b0.1-e0.4-w90',\n",
       " 'test5-s20-b0.1-e0.8-w90']"
      ]
     },
     "execution_count": 2,
     "metadata": {},
     "output_type": "execute_result"
    }
   ],
   "source": [
    "pi_2 = np.pi/2.0\n",
    "pi_180 = np.pi/180.0\n",
    "\n",
    "b_grid = 1-np.geomspace(0.9,0.1,5)\n",
    "snr_grid = np.array([20,40,80])\n",
    "e_grid = np.geomspace(0.05,0.8,5)\n",
    "w_grid = np.array([pi_2, 132*pi_180, 178*pi_180, 226*pi_180, 3*pi_2])\n",
    "\n",
    "\n",
    "\n",
    "points = []\n",
    "\n",
    "for ww in w_grid:\n",
    "    for ss in snr_grid:\n",
    "        for bb in b_grid:\n",
    "            for ee in e_grid:\n",
    "                point = [bb, ss, ee, ww]\n",
    "                points.append(point)\n",
    "\n",
    "\n",
    "SIM_IDS = []\n",
    "for i, point in enumerate(points[:25]):\n",
    "    b_inj, snr, e_inj, w_inj = point\n",
    "    SIM_ID = 'test' + str(i+1) + '-s'+str(snr)+'-b'+str(round(b_inj,2))+'-e'+str(round(e_inj,2))+'-w'+str(int(w_inj*180/np.pi))\n",
    "    SIM_IDS.append(SIM_ID)\n",
    "    \n",
    "SIM_IDS[:5]\n"
   ]
  },
  {
   "cell_type": "code",
   "execution_count": 3,
   "metadata": {},
   "outputs": [],
   "source": [
    "# A function that makes it easier to add a new column to an HDU dataset extension\n",
    "\n",
    "def add_col(data, new_data, index=False):\n",
    "    '''\n",
    "    Add new column(s) to a records array within specific HDU extension\n",
    "    of the dataset FITS file. Only saves to variable, NOT to file.\n",
    "    \n",
    "    Arguments:\n",
    "        data [FITS hdu]: An HDU extension of the master FITS file dataset\n",
    "        new_data [dict]: {New column name as string: New column data as an array}\n",
    "        index [bool]:    (Optional) Whether or not to include index as column\n",
    "    \n",
    "    Returns:\n",
    "        None -- instead, adds column(s) to the input 'data' variable\n",
    "    '''\n",
    "    rec_arr = data.data\n",
    "    df = pd.DataFrame(rec_arr.view(np.recarray))\n",
    "    for col in new_data.keys():\n",
    "        df[col] = new_data[col]\n",
    "    data.data = df.to_records(index=index)\n",
    "    "
   ]
  },
  {
   "cell_type": "markdown",
   "metadata": {},
   "source": [
    "# Read in and display data"
   ]
  },
  {
   "cell_type": "code",
   "execution_count": 5,
   "metadata": {},
   "outputs": [],
   "source": [
    "# Select a simulation\n",
    "SIM_ID = SIM_IDS[19]\n",
    "\n",
    "# Set up primary directory path\n",
    "PRIMARY_DIR = \"/Users/mason/data/10Mar22/\"\n",
    "F_NAME = PRIMARY_DIR + SIM_ID + '/' + SIM_ID + '.fits'"
   ]
  },
  {
   "cell_type": "code",
   "execution_count": 6,
   "metadata": {},
   "outputs": [
    {
     "name": "stdout",
     "output_type": "stream",
     "text": [
      "Filename: /Users/mason/data/10Mar22/test20-s20-b0.83-e0.8-w90/test20-s20-b0.83-e0.8-w90.fits\n",
      "No.    Name      Ver    Type      Cards   Dimensions   Format\n",
      "  0  PRIMARY       1 PrimaryHDU       9   ()      \n",
      "  1  TRUTHS        1 BinTableHDU     45   1R x 18C   [D, D, D, D, D, D, D, K, D, D, D, D, D, D, D, D, D, D]   \n",
      "  2  S             1 BinTableHDU     42   40000R x 10C   [D, D, D, D, D, D, D, D, D, K]   \n",
      "  3  S-SUMMARY     1 BinTableHDU     38   8R x 10C   [10A, D, D, D, D, D, D, D, D, D]   \n",
      "  4  N             1 BinTableHDU     45   40000R x 11C   [D, D, D, D, D, D, D, D, D, D, K]   \n",
      "  5  N-SUMMARY     1 BinTableHDU     38   9R x 10C   [10A, D, D, D, D, D, D, D, D, D]   \n",
      "  6  T             1 BinTableHDU     48   40000R x 12C   [D, D, D, D, D, D, D, D, D, D, D, K]   \n",
      "  7  T-SUMMARY     1 BinTableHDU     38   10R x 10C   [10A, D, D, D, D, D, D, D, D, D]   \n",
      "  8  G             1 BinTableHDU     52   40000R x 14C   [D, D, D, D, D, D, D, D, D, D, D, D, D, K]   \n",
      "  9  G-SUMMARY     1 BinTableHDU     38   12R x 10C   [10A, D, D, D, D, D, D, D, D, D]   \n",
      " 10  EOR           1 BinTableHDU     49   40000R x 13C   [D, D, D, D, D, D, D, D, D, D, D, D, K]   \n",
      " 11  EOR-SUMMARY    1 BinTableHDU     38   11R x 10C   [10A, D, D, D, D, D, D, D, D, D]   \n"
     ]
    }
   ],
   "source": [
    "# Open file\n",
    "traces = fits.open(F_NAME)\n",
    "\n",
    "# Display basic HDU extentions info\n",
    "traces.info()\n"
   ]
  },
  {
   "cell_type": "code",
   "execution_count": 7,
   "metadata": {},
   "outputs": [
    {
     "data": {
      "text/plain": [
       "SIMPLE  =                    T / conforms to FITS standard                      \n",
       "BITPIX  =                    8 / array data type                                \n",
       "NAXIS   =                    0 / number of array dimensions                     \n",
       "EXTEND  =                    T                                                  \n",
       "TARGET  = 'test20-s20-b0.83-e0.8-w90' / Target name                             \n",
       "PHOTOSRC= 'Simulated'          / Source of photometry                           \n",
       "DATETIME= '2022-03-11T14:14:12.851417' / Datetime of last model completion      \n",
       "TRIAL   = 'MGP22: Injection-Recovery' / Experiment name                         \n",
       "COMMENT For MacDougall, Gilbert, and Petigura (2022)                            "
      ]
     },
     "execution_count": 7,
     "metadata": {},
     "output_type": "execute_result"
    }
   ],
   "source": [
    "# Display general file header\n",
    "traces['PRIMARY'].header"
   ]
  },
  {
   "cell_type": "code",
   "execution_count": 8,
   "metadata": {},
   "outputs": [
    {
     "data": {
      "text/plain": [
       "FITS_rec([(0.005, 0.06, 0.005, 0.8, 11.63, 1., 0.03, 20, 0.82679492, 0.8, 1.57079633, 0.03511914, 0.4, 0.25, 1., 1., 1.40977982, 0.14097798)],\n",
       "         dtype=(numpy.record, [('RORMIN', '>f8'), ('RORMAX', '>f8'), ('DURMIN', '>f8'), ('DURMAX', '>f8'), ('PERIOD', '>f8'), ('T0', '>f8'), ('ROR', '>f8'), ('SNR', '>i8'), ('IMPACT', '>f8'), ('ECC', '>f8'), ('OMEGA', '>f8'), ('DUR_14', '>f8'), ('LD_U1', '>f8'), ('LD_U2', '>f8'), ('MSTAR', '>f8'), ('RSTAR', '>f8'), ('RHOSTAR', '>f8'), ('RHOSTARE', '>f8')]))"
      ]
     },
     "execution_count": 8,
     "metadata": {},
     "output_type": "execute_result"
    }
   ],
   "source": [
    "# Display ground truth input parameter values\n",
    "traces['TRUTHS'].data"
   ]
  },
  {
   "cell_type": "code",
   "execution_count": 9,
   "metadata": {
    "scrolled": false
   },
   "outputs": [
    {
     "data": {
      "text/plain": [
       "XTENSION= 'BINTABLE'           / binary table extension                         \n",
       "BITPIX  =                    8 / array data type                                \n",
       "NAXIS   =                    2 / number of array dimensions                     \n",
       "NAXIS1  =                   80 / length of dimension 1                          \n",
       "NAXIS2  =                40000 / length of dimension 2                          \n",
       "PCOUNT  =                    0 / number of group parameters                     \n",
       "GCOUNT  =                    1 / number of groups                               \n",
       "TFIELDS =                   10 / number of table fields                         \n",
       "TTYPE1  = 'T0      '                                                            \n",
       "TFORM1  = 'D       '                                                            \n",
       "TTYPE2  = 'LOG_ROR '                                                            \n",
       "TFORM2  = 'D       '                                                            \n",
       "TTYPE3  = 'IMPACT  '                                                            \n",
       "TFORM3  = 'D       '                                                            \n",
       "TTYPE4  = 'LD_U1   '                                                            \n",
       "TFORM4  = 'D       '                                                            \n",
       "TTYPE5  = 'LD_U2   '                                                            \n",
       "TFORM5  = 'D       '                                                            \n",
       "TTYPE6  = 'LOGDUR14'                                                            \n",
       "TFORM6  = 'D       '                                                            \n",
       "TTYPE7  = 'PERIOD  '                                                            \n",
       "TFORM7  = 'D       '                                                            \n",
       "TTYPE8  = 'RHOTILDE'                                                            \n",
       "TFORM8  = 'D       '                                                            \n",
       "TTYPE9  = 'LNLIKE  '                                                            \n",
       "TFORM9  = 'D       '                                                            \n",
       "TTYPE10 = 'QUALITY '                                                            \n",
       "TFORM10 = 'K       '                                                            \n",
       "EXTNAME = 'S       '           / extension name                                 \n",
       "DATETIME= '2022-03-11T12:53:10.848330' / datetime; Time data was created        \n",
       "RUNTIME =    677.1733379364014 / seconds; Duration of model sampling            \n",
       "TUNESTEP=                30000 / steps; Number of sampler tuning steps          \n",
       "PERIOD  = 'days    '           / Orbital period                                 \n",
       "T0      = 'days    '           / Mid-point of first transit                     \n",
       "LOG_ROR = 'dimensionless'      / Planet-to-star radius ratio                    \n",
       "IMPACT  = 'dimensionless'      / Orbital impact parameter                       \n",
       "LD_U1   = 'dimensionless'      / 1st quadratic stellar limb darkening parameters\n",
       "LD_U2   = 'dimensionless'      / 2nd quadratic stellar limb darkening parameters\n",
       "LOGDUR14= 'days    '           / Transit duration: 1st to 4th contact           \n",
       "RHOTILDE= 'g/cm3   '           / Density of host star assuming zero eccentricity\n",
       "LNLIKE  = 'dimensionless'      / Natural log of the likelihood of the model fit \n",
       "QUALITY = 'bool    '           / Data quality flag indicating divergent samples "
      ]
     },
     "execution_count": 9,
     "metadata": {},
     "output_type": "execute_result"
    }
   ],
   "source": [
    "# Display a dataset header\n",
    "traces['S'].header"
   ]
  },
  {
   "cell_type": "code",
   "execution_count": 10,
   "metadata": {},
   "outputs": [
    {
     "data": {
      "text/plain": [
       "FITS_rec([(1.00068543, -3.52290211, 0.65854601, 0.79869657,  0.05010408, -3.47069831, 11.63, 116.954324  , 361.21327151, 0),\n",
       "          (0.99800459, -3.58858447, 0.69931982, 0.15887047,  0.48323043, -3.26469741, 11.63,  54.31688394, 362.41926059, 0),\n",
       "          (0.99849164, -3.65281192, 0.21546945, 0.69079287, -0.31102051, -3.44072288, 11.63, 217.66911342, 362.0645996 , 0),\n",
       "          ...,\n",
       "          (0.99966513, -3.71478965, 0.32738603, 0.11779849,  0.82103772, -3.37019647, 11.63, 159.63739182, 362.0360016 , 0),\n",
       "          (0.99856842, -3.49049546, 0.82675014, 1.29627919, -0.63330369, -3.30909292, 11.63,  33.83508835, 362.5895705 , 0),\n",
       "          (0.99945195, -3.53532524, 0.84685714, 0.11838457,  0.5395765 , -3.25017454, 11.63,  24.36372007, 363.80291066, 0)],\n",
       "         dtype=(numpy.record, [('T0', '>f8'), ('LOG_ROR', '>f8'), ('IMPACT', '>f8'), ('LD_U1', '>f8'), ('LD_U2', '>f8'), ('LOGDUR14', '>f8'), ('PERIOD', '>f8'), ('RHOTILDE', '>f8'), ('LNLIKE', '>f8'), ('QUALITY', '>i8')]))"
      ]
     },
     "execution_count": 10,
     "metadata": {},
     "output_type": "execute_result"
    }
   ],
   "source": [
    "# Display a dataset\n",
    "traces['S'].data"
   ]
  },
  {
   "cell_type": "code",
   "execution_count": 11,
   "metadata": {},
   "outputs": [
    {
     "data": {
      "text/plain": [
       "array([0.65854601, 0.69931982, 0.21546945, ..., 0.32738603, 0.82675014,\n",
       "       0.84685714])"
      ]
     },
     "execution_count": 11,
     "metadata": {},
     "output_type": "execute_result"
    }
   ],
   "source": [
    "# Display a specific column\n",
    "traces['S'].data['IMPACT']"
   ]
  },
  {
   "cell_type": "code",
   "execution_count": 12,
   "metadata": {},
   "outputs": [
    {
     "data": {
      "text/plain": [
       "array([[0.65854601, 0.69931982, 0.21546945, ..., 0.47692412, 0.49437905,\n",
       "        0.58094706],\n",
       "       [0.64729068, 0.31312317, 0.66822082, ..., 0.32738603, 0.82675014,\n",
       "        0.84685714]])"
      ]
     },
     "execution_count": 12,
     "metadata": {},
     "output_type": "execute_result"
    }
   ],
   "source": [
    "# Get specific column data as Nchains x Ndraws\n",
    "traces['S'].data['IMPACT'].reshape(2,-1)"
   ]
  },
  {
   "cell_type": "markdown",
   "metadata": {},
   "source": [
    "# Add (or edit) data"
   ]
  },
  {
   "cell_type": "code",
   "execution_count": 13,
   "metadata": {},
   "outputs": [],
   "source": [
    "# Add a new column to a dataset\n",
    "# i.e. We want a 'DUR14' column rather than just a 'LOGDUR14' column\n",
    "\n",
    "DUR14_data = np.exp(traces['S'].data['LOGDUR14'])\n",
    "\n",
    "add_col(traces['S'], {'DUR14': DUR14_data})\n",
    "# NOTE: There is no output; the new column is saved directly \n",
    "# to the input dataset variable (NOT saved to the file on your machine)"
   ]
  },
  {
   "cell_type": "code",
   "execution_count": 14,
   "metadata": {},
   "outputs": [
    {
     "data": {
      "text/plain": [
       "('T0',\n",
       " 'LOG_ROR',\n",
       " 'IMPACT',\n",
       " 'LD_U1',\n",
       " 'LD_U2',\n",
       " 'LOGDUR14',\n",
       " 'PERIOD',\n",
       " 'RHOTILDE',\n",
       " 'LNLIKE',\n",
       " 'QUALITY',\n",
       " 'DUR14')"
      ]
     },
     "execution_count": 14,
     "metadata": {},
     "output_type": "execute_result"
    }
   ],
   "source": [
    "# Check that the new column was added by checking column names\n",
    "traces['S'].data.dtype.names"
   ]
  },
  {
   "cell_type": "code",
   "execution_count": 15,
   "metadata": {},
   "outputs": [],
   "source": [
    "traces.close()"
   ]
  },
  {
   "cell_type": "code",
   "execution_count": null,
   "metadata": {},
   "outputs": [],
   "source": []
  }
 ],
 "metadata": {
  "kernelspec": {
   "display_name": "Python 3",
   "language": "python",
   "name": "python3"
  },
  "language_info": {
   "codemirror_mode": {
    "name": "ipython",
    "version": 3
   },
   "file_extension": ".py",
   "mimetype": "text/x-python",
   "name": "python",
   "nbconvert_exporter": "python",
   "pygments_lexer": "ipython3",
   "version": "3.7.3"
  }
 },
 "nbformat": 4,
 "nbformat_minor": 5
}
